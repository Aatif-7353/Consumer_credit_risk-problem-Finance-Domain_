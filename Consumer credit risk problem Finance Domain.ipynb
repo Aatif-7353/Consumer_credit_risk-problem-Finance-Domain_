{
 "cells": [
  {
   "cell_type": "code",
   "execution_count": 41,
   "id": "732090d7",
   "metadata": {},
   "outputs": [],
   "source": [
    "import numpy as np\n",
    "import pandas as pd\n",
    "import matplotlib.pyplot as plt\n",
    "import seaborn as sns\n",
    "%matplotlib inline\n",
    "import warnings\n",
    "warnings.filterwarnings('ignore')\n",
    "color=sns.color_palette()\n",
    "import sklearn.metrics as metrics"
   ]
  },
  {
   "cell_type": "markdown",
   "id": "5cb30085",
   "metadata": {},
   "source": [
    "# Importing the data"
   ]
  },
  {
   "cell_type": "code",
   "execution_count": 42,
   "id": "1a561445",
   "metadata": {},
   "outputs": [
    {
     "data": {
      "text/html": [
       "<div>\n",
       "<style scoped>\n",
       "    .dataframe tbody tr th:only-of-type {\n",
       "        vertical-align: middle;\n",
       "    }\n",
       "\n",
       "    .dataframe tbody tr th {\n",
       "        vertical-align: top;\n",
       "    }\n",
       "\n",
       "    .dataframe thead th {\n",
       "        text-align: right;\n",
       "    }\n",
       "</style>\n",
       "<table border=\"1\" class=\"dataframe\">\n",
       "  <thead>\n",
       "    <tr style=\"text-align: right;\">\n",
       "      <th></th>\n",
       "      <th>default</th>\n",
       "      <th>student</th>\n",
       "      <th>balance</th>\n",
       "      <th>income</th>\n",
       "    </tr>\n",
       "  </thead>\n",
       "  <tbody>\n",
       "    <tr>\n",
       "      <th>0</th>\n",
       "      <td>No</td>\n",
       "      <td>No</td>\n",
       "      <td>729.53</td>\n",
       "      <td>44361.63</td>\n",
       "    </tr>\n",
       "    <tr>\n",
       "      <th>1</th>\n",
       "      <td>No</td>\n",
       "      <td>Yes</td>\n",
       "      <td>817.18</td>\n",
       "      <td>12106.13</td>\n",
       "    </tr>\n",
       "    <tr>\n",
       "      <th>2</th>\n",
       "      <td>No</td>\n",
       "      <td>No</td>\n",
       "      <td>1073.55</td>\n",
       "      <td>31767.14</td>\n",
       "    </tr>\n",
       "    <tr>\n",
       "      <th>3</th>\n",
       "      <td>No</td>\n",
       "      <td>No</td>\n",
       "      <td>529.25</td>\n",
       "      <td>35704.49</td>\n",
       "    </tr>\n",
       "    <tr>\n",
       "      <th>4</th>\n",
       "      <td>No</td>\n",
       "      <td>No</td>\n",
       "      <td>785.66</td>\n",
       "      <td>38463.50</td>\n",
       "    </tr>\n",
       "  </tbody>\n",
       "</table>\n",
       "</div>"
      ],
      "text/plain": [
       "  default student  balance    income\n",
       "0      No      No   729.53  44361.63\n",
       "1      No     Yes   817.18  12106.13\n",
       "2      No      No  1073.55  31767.14\n",
       "3      No      No   529.25  35704.49\n",
       "4      No      No   785.66  38463.50"
      ]
     },
     "execution_count": 42,
     "metadata": {},
     "output_type": "execute_result"
    }
   ],
   "source": [
    "default_df=pd.read_csv('Default.csv')\n",
    "default_df.head()"
   ]
  },
  {
   "cell_type": "markdown",
   "id": "3143c885",
   "metadata": {},
   "source": [
    "# lets check number of observation and variable"
   ]
  },
  {
   "cell_type": "code",
   "execution_count": 43,
   "id": "07058fea",
   "metadata": {},
   "outputs": [
    {
     "name": "stdout",
     "output_type": "stream",
     "text": [
      "The number of row(observation) is 10000 \n",
      "The number of column(variable) 4\n"
     ]
    }
   ],
   "source": [
    "print('The number of row(observation) is',default_df.shape[0],'\\n' 'The number of column(variable)',default_df.shape[1])"
   ]
  },
  {
   "cell_type": "markdown",
   "id": "418b05b1",
   "metadata": {},
   "source": [
    "# Descriptive statistics for continuous variable"
   ]
  },
  {
   "cell_type": "code",
   "execution_count": 44,
   "id": "d167e3bf",
   "metadata": {},
   "outputs": [
    {
     "data": {
      "text/html": [
       "<div>\n",
       "<style scoped>\n",
       "    .dataframe tbody tr th:only-of-type {\n",
       "        vertical-align: middle;\n",
       "    }\n",
       "\n",
       "    .dataframe tbody tr th {\n",
       "        vertical-align: top;\n",
       "    }\n",
       "\n",
       "    .dataframe thead th {\n",
       "        text-align: right;\n",
       "    }\n",
       "</style>\n",
       "<table border=\"1\" class=\"dataframe\">\n",
       "  <thead>\n",
       "    <tr style=\"text-align: right;\">\n",
       "      <th></th>\n",
       "      <th>balance</th>\n",
       "      <th>income</th>\n",
       "    </tr>\n",
       "  </thead>\n",
       "  <tbody>\n",
       "    <tr>\n",
       "      <th>count</th>\n",
       "      <td>10000.000000</td>\n",
       "      <td>10000.000000</td>\n",
       "    </tr>\n",
       "    <tr>\n",
       "      <th>mean</th>\n",
       "      <td>835.374877</td>\n",
       "      <td>33516.981852</td>\n",
       "    </tr>\n",
       "    <tr>\n",
       "      <th>std</th>\n",
       "      <td>483.714957</td>\n",
       "      <td>13336.639582</td>\n",
       "    </tr>\n",
       "    <tr>\n",
       "      <th>min</th>\n",
       "      <td>0.000000</td>\n",
       "      <td>771.970000</td>\n",
       "    </tr>\n",
       "    <tr>\n",
       "      <th>25%</th>\n",
       "      <td>481.732500</td>\n",
       "      <td>21340.460000</td>\n",
       "    </tr>\n",
       "    <tr>\n",
       "      <th>50%</th>\n",
       "      <td>823.635000</td>\n",
       "      <td>34552.645000</td>\n",
       "    </tr>\n",
       "    <tr>\n",
       "      <th>75%</th>\n",
       "      <td>1166.305000</td>\n",
       "      <td>43807.730000</td>\n",
       "    </tr>\n",
       "    <tr>\n",
       "      <th>max</th>\n",
       "      <td>2654.320000</td>\n",
       "      <td>73554.230000</td>\n",
       "    </tr>\n",
       "  </tbody>\n",
       "</table>\n",
       "</div>"
      ],
      "text/plain": [
       "            balance        income\n",
       "count  10000.000000  10000.000000\n",
       "mean     835.374877  33516.981852\n",
       "std      483.714957  13336.639582\n",
       "min        0.000000    771.970000\n",
       "25%      481.732500  21340.460000\n",
       "50%      823.635000  34552.645000\n",
       "75%     1166.305000  43807.730000\n",
       "max     2654.320000  73554.230000"
      ]
     },
     "execution_count": 44,
     "metadata": {},
     "output_type": "execute_result"
    }
   ],
   "source": [
    "default_df.describe()"
   ]
  },
  {
   "cell_type": "markdown",
   "id": "fae16f88",
   "metadata": {},
   "source": [
    "# Univariate analysis- balance and income"
   ]
  },
  {
   "cell_type": "code",
   "execution_count": 45,
   "id": "94d3300f",
   "metadata": {},
   "outputs": [
    {
     "data": {
      "image/png": "[encoded data removed]",
      "text/plain": [
       "<Figure size 1080x360 with 2 Axes>"
      ]
     },
     "metadata": {
      "needs_background": "light"
     },
     "output_type": "display_data"
    }
   ],
   "source": [
    "plt.figure(figsize=(15,5))\n",
    "plt.subplot(1,2,1)\n",
    "sns.boxplot(y=default_df['balance'])\n",
    "\n",
    "plt.subplot(1,2,2)\n",
    "sns.boxplot(y=default_df['income'])\n",
    "plt.show()"
   ]
  },
  {
   "cell_type": "markdown",
   "id": "7825f554",
   "metadata": {},
   "source": [
    "# Univariate  analysis- student and default"
   ]
  },
  {
   "cell_type": "code",
   "execution_count": 46,
   "id": "9933e87b",
   "metadata": {},
   "outputs": [
    {
     "data": {
      "image/png": "[encoded data removed]",
      "text/plain": [
       "<Figure size 1080x360 with 2 Axes>"
      ]
     },
     "metadata": {
      "needs_background": "light"
     },
     "output_type": "display_data"
    }
   ],
   "source": [
    "plt.figure(figsize=(15,5))\n",
    "plt.subplot(1,2,1)\n",
    "sns.countplot(y=default_df['student'])\n",
    "\n",
    "plt.subplot(1,2,2)\n",
    "sns.countplot(y=default_df['default'])\n",
    "plt.show()"
   ]
  },
  {
   "cell_type": "code",
   "execution_count": 47,
   "id": "5335d4c3",
   "metadata": {},
   "outputs": [
    {
     "data": {
      "text/plain": [
       "No     7056\n",
       "Yes    2944\n",
       "Name: student, dtype: int64"
      ]
     },
     "execution_count": 47,
     "metadata": {},
     "output_type": "execute_result"
    }
   ],
   "source": [
    "default_df['student'].value_counts()"
   ]
  },
  {
   "cell_type": "code",
   "execution_count": 48,
   "id": "ae090693",
   "metadata": {},
   "outputs": [
    {
     "data": {
      "text/plain": [
       "No     0.7056\n",
       "Yes    0.2944\n",
       "Name: student, dtype: float64"
      ]
     },
     "execution_count": 48,
     "metadata": {},
     "output_type": "execute_result"
    }
   ],
   "source": [
    "default_df['student'].value_counts(normalize=True)"
   ]
  },
  {
   "cell_type": "code",
   "execution_count": 49,
   "id": "e2fc7d1c",
   "metadata": {},
   "outputs": [
    {
     "data": {
      "text/plain": [
       "No     9667\n",
       "Yes     333\n",
       "Name: default, dtype: int64"
      ]
     },
     "execution_count": 49,
     "metadata": {},
     "output_type": "execute_result"
    }
   ],
   "source": [
    "default_df['default'].value_counts()"
   ]
  },
  {
   "cell_type": "code",
   "execution_count": 50,
   "id": "fa873075",
   "metadata": {},
   "outputs": [
    {
     "data": {
      "text/plain": [
       "No     0.9667\n",
       "Yes    0.0333\n",
       "Name: default, dtype: float64"
      ]
     },
     "execution_count": 50,
     "metadata": {},
     "output_type": "execute_result"
    }
   ],
   "source": [
    "default_df['default'].value_counts(normalize=True)"
   ]
  },
  {
   "cell_type": "markdown",
   "id": "4000c2b5",
   "metadata": {},
   "source": [
    "# Univariate analysis"
   ]
  },
  {
   "cell_type": "code",
   "execution_count": 51,
   "id": "069f053f",
   "metadata": {},
   "outputs": [
    {
     "data": {
      "image/png": "[encoded data removed]",
      "text/plain": [
       "<Figure size 1080x360 with 2 Axes>"
      ]
     },
     "metadata": {
      "needs_background": "light"
     },
     "output_type": "display_data"
    }
   ],
   "source": [
    "plt.figure(figsize=(15,5))\n",
    "plt.subplot(1,2,1)\n",
    "sns.boxplot(default_df['default'],default_df['balance'])\n",
    "\n",
    "plt.subplot(1,2,2)\n",
    "sns.boxplot(default_df['default'],default_df['income'])\n",
    "plt.show()"
   ]
  },
  {
   "cell_type": "markdown",
   "id": "d9975ef2",
   "metadata": {},
   "source": [
    "# Inference- defaulters seems to have outstanding balance compare to non defaulters. defaulters income seems lower compare to non defaulters"
   ]
  },
  {
   "cell_type": "code",
   "execution_count": 52,
   "id": "00e5c0ff",
   "metadata": {},
   "outputs": [
    {
     "data": {
      "text/html": [
       "<div>\n",
       "<style scoped>\n",
       "    .dataframe tbody tr th:only-of-type {\n",
       "        vertical-align: middle;\n",
       "    }\n",
       "\n",
       "    .dataframe tbody tr th {\n",
       "        vertical-align: top;\n",
       "    }\n",
       "\n",
       "    .dataframe thead th {\n",
       "        text-align: right;\n",
       "    }\n",
       "</style>\n",
       "<table border=\"1\" class=\"dataframe\">\n",
       "  <thead>\n",
       "    <tr style=\"text-align: right;\">\n",
       "      <th>default</th>\n",
       "      <th>No</th>\n",
       "      <th>Yes</th>\n",
       "    </tr>\n",
       "    <tr>\n",
       "      <th>student</th>\n",
       "      <th></th>\n",
       "      <th></th>\n",
       "    </tr>\n",
       "  </thead>\n",
       "  <tbody>\n",
       "    <tr>\n",
       "      <th>No</th>\n",
       "      <td>0.97</td>\n",
       "      <td>0.03</td>\n",
       "    </tr>\n",
       "    <tr>\n",
       "      <th>Yes</th>\n",
       "      <td>0.96</td>\n",
       "      <td>0.04</td>\n",
       "    </tr>\n",
       "  </tbody>\n",
       "</table>\n",
       "</div>"
      ],
      "text/plain": [
       "default    No   Yes\n",
       "student            \n",
       "No       0.97  0.03\n",
       "Yes      0.96  0.04"
      ]
     },
     "execution_count": 52,
     "metadata": {},
     "output_type": "execute_result"
    }
   ],
   "source": [
    "pd.crosstab(default_df['student'],default_df['default'],normalize='index').round(2)"
   ]
  },
  {
   "cell_type": "code",
   "execution_count": 53,
   "id": "e4431144",
   "metadata": {},
   "outputs": [
    {
     "data": {
      "image/png": "[encoded data removed]",
      "text/plain": [
       "<Figure size 432x288 with 2 Axes>"
      ]
     },
     "metadata": {
      "needs_background": "light"
     },
     "output_type": "display_data"
    }
   ],
   "source": [
    "sns.heatmap(default_df[['balance','income']].corr(),annot=True)\n",
    "plt.show()"
   ]
  },
  {
   "cell_type": "code",
   "execution_count": 14,
   "id": "07fa62b6",
   "metadata": {},
   "outputs": [],
   "source": [
    "# checking null value"
   ]
  },
  {
   "cell_type": "code",
   "execution_count": 54,
   "id": "292e1e68",
   "metadata": {},
   "outputs": [
    {
     "data": {
      "text/plain": [
       "default    0\n",
       "student    0\n",
       "balance    0\n",
       "income     0\n",
       "dtype: int64"
      ]
     },
     "execution_count": 54,
     "metadata": {},
     "output_type": "execute_result"
    }
   ],
   "source": [
    "default_df.isnull().sum()"
   ]
  },
  {
   "cell_type": "markdown",
   "id": "a62b40cd",
   "metadata": {},
   "source": [
    "# As we can see there is no null value  in the data set"
   ]
  },
  {
   "cell_type": "code",
   "execution_count": 16,
   "id": "d91da20d",
   "metadata": {},
   "outputs": [],
   "source": [
    "# Treating outliers present in the balance variable"
   ]
  },
  {
   "cell_type": "code",
   "execution_count": 55,
   "id": "0db668d5",
   "metadata": {},
   "outputs": [],
   "source": [
    "Q1,Q3=default_df['balance'].quantile([.25,.75])\n",
    "IQR=Q3-Q1\n",
    "LL=Q1-1.5*IQR\n",
    "UL=Q3+1.5*IQR"
   ]
  },
  {
   "cell_type": "code",
   "execution_count": 56,
   "id": "5b9b7723",
   "metadata": {},
   "outputs": [],
   "source": [
    "df=default_df[default_df['balance']>UL]"
   ]
  },
  {
   "cell_type": "code",
   "execution_count": 57,
   "id": "3a9be8a7",
   "metadata": {},
   "outputs": [
    {
     "data": {
      "text/html": [
       "<div>\n",
       "<style scoped>\n",
       "    .dataframe tbody tr th:only-of-type {\n",
       "        vertical-align: middle;\n",
       "    }\n",
       "\n",
       "    .dataframe tbody tr th {\n",
       "        vertical-align: top;\n",
       "    }\n",
       "\n",
       "    .dataframe thead th {\n",
       "        text-align: right;\n",
       "    }\n",
       "</style>\n",
       "<table border=\"1\" class=\"dataframe\">\n",
       "  <thead>\n",
       "    <tr style=\"text-align: right;\">\n",
       "      <th></th>\n",
       "      <th>default</th>\n",
       "      <th>student</th>\n",
       "      <th>balance</th>\n",
       "      <th>income</th>\n",
       "    </tr>\n",
       "  </thead>\n",
       "  <tbody>\n",
       "    <tr>\n",
       "      <th>173</th>\n",
       "      <td>Yes</td>\n",
       "      <td>Yes</td>\n",
       "      <td>2205.80</td>\n",
       "      <td>14271.49</td>\n",
       "    </tr>\n",
       "    <tr>\n",
       "      <th>1136</th>\n",
       "      <td>Yes</td>\n",
       "      <td>No</td>\n",
       "      <td>2499.02</td>\n",
       "      <td>51504.29</td>\n",
       "    </tr>\n",
       "    <tr>\n",
       "      <th>1160</th>\n",
       "      <td>Yes</td>\n",
       "      <td>Yes</td>\n",
       "      <td>2502.68</td>\n",
       "      <td>14947.52</td>\n",
       "    </tr>\n",
       "    <tr>\n",
       "      <th>1359</th>\n",
       "      <td>Yes</td>\n",
       "      <td>No</td>\n",
       "      <td>2220.97</td>\n",
       "      <td>40725.10</td>\n",
       "    </tr>\n",
       "    <tr>\n",
       "      <th>1502</th>\n",
       "      <td>Yes</td>\n",
       "      <td>Yes</td>\n",
       "      <td>2332.88</td>\n",
       "      <td>11770.23</td>\n",
       "    </tr>\n",
       "    <tr>\n",
       "      <th>1609</th>\n",
       "      <td>Yes</td>\n",
       "      <td>Yes</td>\n",
       "      <td>2269.95</td>\n",
       "      <td>18021.11</td>\n",
       "    </tr>\n",
       "    <tr>\n",
       "      <th>2096</th>\n",
       "      <td>Yes</td>\n",
       "      <td>Yes</td>\n",
       "      <td>2261.85</td>\n",
       "      <td>20030.17</td>\n",
       "    </tr>\n",
       "    <tr>\n",
       "      <th>2140</th>\n",
       "      <td>No</td>\n",
       "      <td>Yes</td>\n",
       "      <td>2308.89</td>\n",
       "      <td>19110.27</td>\n",
       "    </tr>\n",
       "    <tr>\n",
       "      <th>2929</th>\n",
       "      <td>Yes</td>\n",
       "      <td>Yes</td>\n",
       "      <td>2387.31</td>\n",
       "      <td>28296.91</td>\n",
       "    </tr>\n",
       "    <tr>\n",
       "      <th>3162</th>\n",
       "      <td>Yes</td>\n",
       "      <td>Yes</td>\n",
       "      <td>2415.32</td>\n",
       "      <td>17429.50</td>\n",
       "    </tr>\n",
       "    <tr>\n",
       "      <th>3189</th>\n",
       "      <td>Yes</td>\n",
       "      <td>No</td>\n",
       "      <td>2228.47</td>\n",
       "      <td>27438.35</td>\n",
       "    </tr>\n",
       "    <tr>\n",
       "      <th>3702</th>\n",
       "      <td>No</td>\n",
       "      <td>Yes</td>\n",
       "      <td>2370.46</td>\n",
       "      <td>24251.96</td>\n",
       "    </tr>\n",
       "    <tr>\n",
       "      <th>3855</th>\n",
       "      <td>Yes</td>\n",
       "      <td>Yes</td>\n",
       "      <td>2321.88</td>\n",
       "      <td>21331.31</td>\n",
       "    </tr>\n",
       "    <tr>\n",
       "      <th>3913</th>\n",
       "      <td>Yes</td>\n",
       "      <td>Yes</td>\n",
       "      <td>2334.12</td>\n",
       "      <td>19335.89</td>\n",
       "    </tr>\n",
       "    <tr>\n",
       "      <th>3976</th>\n",
       "      <td>No</td>\n",
       "      <td>Yes</td>\n",
       "      <td>2388.17</td>\n",
       "      <td>7832.14</td>\n",
       "    </tr>\n",
       "    <tr>\n",
       "      <th>4060</th>\n",
       "      <td>Yes</td>\n",
       "      <td>Yes</td>\n",
       "      <td>2216.02</td>\n",
       "      <td>20911.70</td>\n",
       "    </tr>\n",
       "    <tr>\n",
       "      <th>4231</th>\n",
       "      <td>Yes</td>\n",
       "      <td>Yes</td>\n",
       "      <td>2291.62</td>\n",
       "      <td>20837.21</td>\n",
       "    </tr>\n",
       "    <tr>\n",
       "      <th>4831</th>\n",
       "      <td>No</td>\n",
       "      <td>Yes</td>\n",
       "      <td>2216.33</td>\n",
       "      <td>24737.08</td>\n",
       "    </tr>\n",
       "    <tr>\n",
       "      <th>5461</th>\n",
       "      <td>Yes</td>\n",
       "      <td>Yes</td>\n",
       "      <td>2247.42</td>\n",
       "      <td>17926.72</td>\n",
       "    </tr>\n",
       "    <tr>\n",
       "      <th>6075</th>\n",
       "      <td>Yes</td>\n",
       "      <td>No</td>\n",
       "      <td>2413.32</td>\n",
       "      <td>38540.57</td>\n",
       "    </tr>\n",
       "    <tr>\n",
       "      <th>6334</th>\n",
       "      <td>Yes</td>\n",
       "      <td>No</td>\n",
       "      <td>2343.80</td>\n",
       "      <td>51095.29</td>\n",
       "    </tr>\n",
       "    <tr>\n",
       "      <th>6882</th>\n",
       "      <td>Yes</td>\n",
       "      <td>Yes</td>\n",
       "      <td>2287.17</td>\n",
       "      <td>18692.14</td>\n",
       "    </tr>\n",
       "    <tr>\n",
       "      <th>7437</th>\n",
       "      <td>Yes</td>\n",
       "      <td>Yes</td>\n",
       "      <td>2461.51</td>\n",
       "      <td>11878.56</td>\n",
       "    </tr>\n",
       "    <tr>\n",
       "      <th>7815</th>\n",
       "      <td>Yes</td>\n",
       "      <td>Yes</td>\n",
       "      <td>2578.47</td>\n",
       "      <td>25706.65</td>\n",
       "    </tr>\n",
       "    <tr>\n",
       "      <th>8264</th>\n",
       "      <td>Yes</td>\n",
       "      <td>No</td>\n",
       "      <td>2236.76</td>\n",
       "      <td>37113.88</td>\n",
       "    </tr>\n",
       "    <tr>\n",
       "      <th>8495</th>\n",
       "      <td>Yes</td>\n",
       "      <td>Yes</td>\n",
       "      <td>2654.32</td>\n",
       "      <td>21930.39</td>\n",
       "    </tr>\n",
       "    <tr>\n",
       "      <th>8832</th>\n",
       "      <td>Yes</td>\n",
       "      <td>Yes</td>\n",
       "      <td>2207.60</td>\n",
       "      <td>19780.76</td>\n",
       "    </tr>\n",
       "    <tr>\n",
       "      <th>8992</th>\n",
       "      <td>Yes</td>\n",
       "      <td>Yes</td>\n",
       "      <td>2352.05</td>\n",
       "      <td>24067.55</td>\n",
       "    </tr>\n",
       "    <tr>\n",
       "      <th>9873</th>\n",
       "      <td>No</td>\n",
       "      <td>No</td>\n",
       "      <td>2391.01</td>\n",
       "      <td>50302.91</td>\n",
       "    </tr>\n",
       "    <tr>\n",
       "      <th>9893</th>\n",
       "      <td>Yes</td>\n",
       "      <td>No</td>\n",
       "      <td>2288.41</td>\n",
       "      <td>52043.57</td>\n",
       "    </tr>\n",
       "    <tr>\n",
       "      <th>9978</th>\n",
       "      <td>Yes</td>\n",
       "      <td>No</td>\n",
       "      <td>2202.46</td>\n",
       "      <td>47287.26</td>\n",
       "    </tr>\n",
       "  </tbody>\n",
       "</table>\n",
       "</div>"
      ],
      "text/plain": [
       "     default student  balance    income\n",
       "173      Yes     Yes  2205.80  14271.49\n",
       "1136     Yes      No  2499.02  51504.29\n",
       "1160     Yes     Yes  2502.68  14947.52\n",
       "1359     Yes      No  2220.97  40725.10\n",
       "1502     Yes     Yes  2332.88  11770.23\n",
       "1609     Yes     Yes  2269.95  18021.11\n",
       "2096     Yes     Yes  2261.85  20030.17\n",
       "2140      No     Yes  2308.89  19110.27\n",
       "2929     Yes     Yes  2387.31  28296.91\n",
       "3162     Yes     Yes  2415.32  17429.50\n",
       "3189     Yes      No  2228.47  27438.35\n",
       "3702      No     Yes  2370.46  24251.96\n",
       "3855     Yes     Yes  2321.88  21331.31\n",
       "3913     Yes     Yes  2334.12  19335.89\n",
       "3976      No     Yes  2388.17   7832.14\n",
       "4060     Yes     Yes  2216.02  20911.70\n",
       "4231     Yes     Yes  2291.62  20837.21\n",
       "4831      No     Yes  2216.33  24737.08\n",
       "5461     Yes     Yes  2247.42  17926.72\n",
       "6075     Yes      No  2413.32  38540.57\n",
       "6334     Yes      No  2343.80  51095.29\n",
       "6882     Yes     Yes  2287.17  18692.14\n",
       "7437     Yes     Yes  2461.51  11878.56\n",
       "7815     Yes     Yes  2578.47  25706.65\n",
       "8264     Yes      No  2236.76  37113.88\n",
       "8495     Yes     Yes  2654.32  21930.39\n",
       "8832     Yes     Yes  2207.60  19780.76\n",
       "8992     Yes     Yes  2352.05  24067.55\n",
       "9873      No      No  2391.01  50302.91\n",
       "9893     Yes      No  2288.41  52043.57\n",
       "9978     Yes      No  2202.46  47287.26"
      ]
     },
     "execution_count": 57,
     "metadata": {},
     "output_type": "execute_result"
    }
   ],
   "source": [
    "df"
   ]
  },
  {
   "cell_type": "code",
   "execution_count": 58,
   "id": "bda244ed",
   "metadata": {},
   "outputs": [],
   "source": [
    "df1=default_df[default_df['balance']<LL]"
   ]
  },
  {
   "cell_type": "code",
   "execution_count": 59,
   "id": "afda31ee",
   "metadata": {},
   "outputs": [
    {
     "data": {
      "text/html": [
       "<div>\n",
       "<style scoped>\n",
       "    .dataframe tbody tr th:only-of-type {\n",
       "        vertical-align: middle;\n",
       "    }\n",
       "\n",
       "    .dataframe tbody tr th {\n",
       "        vertical-align: top;\n",
       "    }\n",
       "\n",
       "    .dataframe thead th {\n",
       "        text-align: right;\n",
       "    }\n",
       "</style>\n",
       "<table border=\"1\" class=\"dataframe\">\n",
       "  <thead>\n",
       "    <tr style=\"text-align: right;\">\n",
       "      <th></th>\n",
       "      <th>default</th>\n",
       "      <th>student</th>\n",
       "      <th>balance</th>\n",
       "      <th>income</th>\n",
       "    </tr>\n",
       "  </thead>\n",
       "  <tbody>\n",
       "  </tbody>\n",
       "</table>\n",
       "</div>"
      ],
      "text/plain": [
       "Empty DataFrame\n",
       "Columns: [default, student, balance, income]\n",
       "Index: []"
      ]
     },
     "execution_count": 59,
     "metadata": {},
     "output_type": "execute_result"
    }
   ],
   "source": [
    "df1"
   ]
  },
  {
   "cell_type": "code",
   "execution_count": 60,
   "id": "500b65a3",
   "metadata": {},
   "outputs": [
    {
     "data": {
      "text/plain": [
       "31"
      ]
     },
     "execution_count": 60,
     "metadata": {},
     "output_type": "execute_result"
    }
   ],
   "source": [
    "df['default'].count()"
   ]
  },
  {
   "cell_type": "code",
   "execution_count": 61,
   "id": "c5bdbe19",
   "metadata": {},
   "outputs": [
    {
     "data": {
      "text/plain": [
       "Yes    26\n",
       "No      5\n",
       "Name: default, dtype: int64"
      ]
     },
     "execution_count": 61,
     "metadata": {},
     "output_type": "execute_result"
    }
   ],
   "source": [
    "df['default'].value_counts()"
   ]
  },
  {
   "cell_type": "code",
   "execution_count": 62,
   "id": "dd9f0cb9",
   "metadata": {},
   "outputs": [
    {
     "data": {
      "text/plain": [
       "Yes    0.83871\n",
       "No     0.16129\n",
       "Name: default, dtype: float64"
      ]
     },
     "execution_count": 62,
     "metadata": {},
     "output_type": "execute_result"
    }
   ],
   "source": [
    "df['default'].value_counts(normalize=True)"
   ]
  },
  {
   "cell_type": "code",
   "execution_count": 63,
   "id": "d6fc6549",
   "metadata": {},
   "outputs": [],
   "source": [
    "default_df['balance']=np.where(default_df['balance']>UL,UL,default_df['balance'])"
   ]
  },
  {
   "cell_type": "code",
   "execution_count": 64,
   "id": "0891ce1b",
   "metadata": {},
   "outputs": [
    {
     "data": {
      "image/png": "[encoded data removed]",
      "text/plain": [
       "<Figure size 432x288 with 1 Axes>"
      ]
     },
     "metadata": {
      "needs_background": "light"
     },
     "output_type": "display_data"
    }
   ],
   "source": [
    "sns.boxplot(y=default_df['balance'])\n",
    "plt.show()"
   ]
  },
  {
   "cell_type": "markdown",
   "id": "8c2834f1",
   "metadata": {},
   "source": [
    "# Outliers have been replaced with transformation method"
   ]
  },
  {
   "cell_type": "code",
   "execution_count": 27,
   "id": "bc55c98a",
   "metadata": {},
   "outputs": [],
   "source": [
    "#  from sklearn import label encoder"
   ]
  },
  {
   "cell_type": "code",
   "execution_count": 65,
   "id": "5b841ea3",
   "metadata": {},
   "outputs": [],
   "source": [
    "default_df=pd.get_dummies(default_df,drop_first=True)"
   ]
  },
  {
   "cell_type": "code",
   "execution_count": 66,
   "id": "3d6dc595",
   "metadata": {},
   "outputs": [
    {
     "data": {
      "text/html": [
       "<div>\n",
       "<style scoped>\n",
       "    .dataframe tbody tr th:only-of-type {\n",
       "        vertical-align: middle;\n",
       "    }\n",
       "\n",
       "    .dataframe tbody tr th {\n",
       "        vertical-align: top;\n",
       "    }\n",
       "\n",
       "    .dataframe thead th {\n",
       "        text-align: right;\n",
       "    }\n",
       "</style>\n",
       "<table border=\"1\" class=\"dataframe\">\n",
       "  <thead>\n",
       "    <tr style=\"text-align: right;\">\n",
       "      <th></th>\n",
       "      <th>balance</th>\n",
       "      <th>income</th>\n",
       "      <th>default_Yes</th>\n",
       "      <th>student_Yes</th>\n",
       "    </tr>\n",
       "  </thead>\n",
       "  <tbody>\n",
       "    <tr>\n",
       "      <th>0</th>\n",
       "      <td>729.53</td>\n",
       "      <td>44361.63</td>\n",
       "      <td>0</td>\n",
       "      <td>0</td>\n",
       "    </tr>\n",
       "    <tr>\n",
       "      <th>1</th>\n",
       "      <td>817.18</td>\n",
       "      <td>12106.13</td>\n",
       "      <td>0</td>\n",
       "      <td>1</td>\n",
       "    </tr>\n",
       "    <tr>\n",
       "      <th>2</th>\n",
       "      <td>1073.55</td>\n",
       "      <td>31767.14</td>\n",
       "      <td>0</td>\n",
       "      <td>0</td>\n",
       "    </tr>\n",
       "    <tr>\n",
       "      <th>3</th>\n",
       "      <td>529.25</td>\n",
       "      <td>35704.49</td>\n",
       "      <td>0</td>\n",
       "      <td>0</td>\n",
       "    </tr>\n",
       "    <tr>\n",
       "      <th>4</th>\n",
       "      <td>785.66</td>\n",
       "      <td>38463.50</td>\n",
       "      <td>0</td>\n",
       "      <td>0</td>\n",
       "    </tr>\n",
       "    <tr>\n",
       "      <th>5</th>\n",
       "      <td>919.59</td>\n",
       "      <td>7491.56</td>\n",
       "      <td>0</td>\n",
       "      <td>1</td>\n",
       "    </tr>\n",
       "    <tr>\n",
       "      <th>6</th>\n",
       "      <td>825.51</td>\n",
       "      <td>24905.23</td>\n",
       "      <td>0</td>\n",
       "      <td>0</td>\n",
       "    </tr>\n",
       "    <tr>\n",
       "      <th>7</th>\n",
       "      <td>808.67</td>\n",
       "      <td>17600.45</td>\n",
       "      <td>0</td>\n",
       "      <td>1</td>\n",
       "    </tr>\n",
       "    <tr>\n",
       "      <th>8</th>\n",
       "      <td>1161.06</td>\n",
       "      <td>37468.53</td>\n",
       "      <td>0</td>\n",
       "      <td>0</td>\n",
       "    </tr>\n",
       "    <tr>\n",
       "      <th>9</th>\n",
       "      <td>0.00</td>\n",
       "      <td>29275.27</td>\n",
       "      <td>0</td>\n",
       "      <td>0</td>\n",
       "    </tr>\n",
       "  </tbody>\n",
       "</table>\n",
       "</div>"
      ],
      "text/plain": [
       "   balance    income  default_Yes  student_Yes\n",
       "0   729.53  44361.63            0            0\n",
       "1   817.18  12106.13            0            1\n",
       "2  1073.55  31767.14            0            0\n",
       "3   529.25  35704.49            0            0\n",
       "4   785.66  38463.50            0            0\n",
       "5   919.59   7491.56            0            1\n",
       "6   825.51  24905.23            0            0\n",
       "7   808.67  17600.45            0            1\n",
       "8  1161.06  37468.53            0            0\n",
       "9     0.00  29275.27            0            0"
      ]
     },
     "execution_count": 66,
     "metadata": {},
     "output_type": "execute_result"
    }
   ],
   "source": [
    "default_df.head(10)"
   ]
  },
  {
   "cell_type": "markdown",
   "id": "447366e0",
   "metadata": {},
   "source": [
    "# relabeling the column as per the original names"
   ]
  },
  {
   "cell_type": "code",
   "execution_count": 67,
   "id": "c6e130ba",
   "metadata": {},
   "outputs": [
    {
     "data": {
      "text/plain": [
       "Index(['balance', 'income', 'default_Yes', 'student_Yes'], dtype='object')"
      ]
     },
     "execution_count": 67,
     "metadata": {},
     "output_type": "execute_result"
    }
   ],
   "source": [
    "default_df.columns"
   ]
  },
  {
   "cell_type": "code",
   "execution_count": 68,
   "id": "a0ac0dc6",
   "metadata": {},
   "outputs": [],
   "source": [
    "default_df.columns=['balance','income','default','student']"
   ]
  },
  {
   "cell_type": "code",
   "execution_count": 69,
   "id": "db421910",
   "metadata": {},
   "outputs": [
    {
     "data": {
      "text/html": [
       "<div>\n",
       "<style scoped>\n",
       "    .dataframe tbody tr th:only-of-type {\n",
       "        vertical-align: middle;\n",
       "    }\n",
       "\n",
       "    .dataframe tbody tr th {\n",
       "        vertical-align: top;\n",
       "    }\n",
       "\n",
       "    .dataframe thead th {\n",
       "        text-align: right;\n",
       "    }\n",
       "</style>\n",
       "<table border=\"1\" class=\"dataframe\">\n",
       "  <thead>\n",
       "    <tr style=\"text-align: right;\">\n",
       "      <th></th>\n",
       "      <th>balance</th>\n",
       "      <th>income</th>\n",
       "      <th>default</th>\n",
       "      <th>student</th>\n",
       "    </tr>\n",
       "  </thead>\n",
       "  <tbody>\n",
       "    <tr>\n",
       "      <th>0</th>\n",
       "      <td>729.53</td>\n",
       "      <td>44361.63</td>\n",
       "      <td>0</td>\n",
       "      <td>0</td>\n",
       "    </tr>\n",
       "    <tr>\n",
       "      <th>1</th>\n",
       "      <td>817.18</td>\n",
       "      <td>12106.13</td>\n",
       "      <td>0</td>\n",
       "      <td>1</td>\n",
       "    </tr>\n",
       "    <tr>\n",
       "      <th>2</th>\n",
       "      <td>1073.55</td>\n",
       "      <td>31767.14</td>\n",
       "      <td>0</td>\n",
       "      <td>0</td>\n",
       "    </tr>\n",
       "    <tr>\n",
       "      <th>3</th>\n",
       "      <td>529.25</td>\n",
       "      <td>35704.49</td>\n",
       "      <td>0</td>\n",
       "      <td>0</td>\n",
       "    </tr>\n",
       "    <tr>\n",
       "      <th>4</th>\n",
       "      <td>785.66</td>\n",
       "      <td>38463.50</td>\n",
       "      <td>0</td>\n",
       "      <td>0</td>\n",
       "    </tr>\n",
       "  </tbody>\n",
       "</table>\n",
       "</div>"
      ],
      "text/plain": [
       "   balance    income  default  student\n",
       "0   729.53  44361.63        0        0\n",
       "1   817.18  12106.13        0        1\n",
       "2  1073.55  31767.14        0        0\n",
       "3   529.25  35704.49        0        0\n",
       "4   785.66  38463.50        0        0"
      ]
     },
     "execution_count": 69,
     "metadata": {},
     "output_type": "execute_result"
    }
   ],
   "source": [
    "default_df.head()"
   ]
  },
  {
   "cell_type": "markdown",
   "id": "edd78a8b",
   "metadata": {},
   "source": [
    "# split the data into independent variable and dependent variable"
   ]
  },
  {
   "cell_type": "code",
   "execution_count": 70,
   "id": "57c23078",
   "metadata": {},
   "outputs": [],
   "source": [
    "x=default_df.drop('default',axis=1)\n",
    "y=default_df['default']"
   ]
  },
  {
   "cell_type": "code",
   "execution_count": 71,
   "id": "9e5ff9e4",
   "metadata": {},
   "outputs": [
    {
     "data": {
      "text/html": [
       "<div>\n",
       "<style scoped>\n",
       "    .dataframe tbody tr th:only-of-type {\n",
       "        vertical-align: middle;\n",
       "    }\n",
       "\n",
       "    .dataframe tbody tr th {\n",
       "        vertical-align: top;\n",
       "    }\n",
       "\n",
       "    .dataframe thead th {\n",
       "        text-align: right;\n",
       "    }\n",
       "</style>\n",
       "<table border=\"1\" class=\"dataframe\">\n",
       "  <thead>\n",
       "    <tr style=\"text-align: right;\">\n",
       "      <th></th>\n",
       "      <th>balance</th>\n",
       "      <th>income</th>\n",
       "      <th>student</th>\n",
       "    </tr>\n",
       "  </thead>\n",
       "  <tbody>\n",
       "    <tr>\n",
       "      <th>0</th>\n",
       "      <td>729.53</td>\n",
       "      <td>44361.63</td>\n",
       "      <td>0</td>\n",
       "    </tr>\n",
       "    <tr>\n",
       "      <th>1</th>\n",
       "      <td>817.18</td>\n",
       "      <td>12106.13</td>\n",
       "      <td>1</td>\n",
       "    </tr>\n",
       "    <tr>\n",
       "      <th>2</th>\n",
       "      <td>1073.55</td>\n",
       "      <td>31767.14</td>\n",
       "      <td>0</td>\n",
       "    </tr>\n",
       "    <tr>\n",
       "      <th>3</th>\n",
       "      <td>529.25</td>\n",
       "      <td>35704.49</td>\n",
       "      <td>0</td>\n",
       "    </tr>\n",
       "    <tr>\n",
       "      <th>4</th>\n",
       "      <td>785.66</td>\n",
       "      <td>38463.50</td>\n",
       "      <td>0</td>\n",
       "    </tr>\n",
       "  </tbody>\n",
       "</table>\n",
       "</div>"
      ],
      "text/plain": [
       "   balance    income  student\n",
       "0   729.53  44361.63        0\n",
       "1   817.18  12106.13        1\n",
       "2  1073.55  31767.14        0\n",
       "3   529.25  35704.49        0\n",
       "4   785.66  38463.50        0"
      ]
     },
     "execution_count": 71,
     "metadata": {},
     "output_type": "execute_result"
    }
   ],
   "source": [
    "x.head()"
   ]
  },
  {
   "cell_type": "code",
   "execution_count": 72,
   "id": "e299fa00",
   "metadata": {},
   "outputs": [
    {
     "data": {
      "text/plain": [
       "0    0\n",
       "1    0\n",
       "2    0\n",
       "3    0\n",
       "4    0\n",
       "Name: default, dtype: uint8"
      ]
     },
     "execution_count": 72,
     "metadata": {},
     "output_type": "execute_result"
    }
   ],
   "source": [
    "y.head()"
   ]
  },
  {
   "cell_type": "code",
   "execution_count": 73,
   "id": "ec92737b",
   "metadata": {},
   "outputs": [
    {
     "data": {
      "text/plain": [
       "0    9667\n",
       "1     333\n",
       "Name: default, dtype: int64"
      ]
     },
     "execution_count": 73,
     "metadata": {},
     "output_type": "execute_result"
    }
   ],
   "source": [
    "y.value_counts()"
   ]
  },
  {
   "cell_type": "markdown",
   "id": "c0c0be94",
   "metadata": {},
   "source": [
    "# partitioning the data into train and test"
   ]
  },
  {
   "cell_type": "code",
   "execution_count": 74,
   "id": "60a084ba",
   "metadata": {},
   "outputs": [],
   "source": [
    "from sklearn.model_selection import train_test_split"
   ]
  },
  {
   "cell_type": "code",
   "execution_count": 75,
   "id": "5557b513",
   "metadata": {},
   "outputs": [],
   "source": [
    "x_train,x_test,y_train,y_test=train_test_split(x,y,test_size=0.3,random_state=21,stratify=y)"
   ]
  },
  {
   "cell_type": "markdown",
   "id": "a5787c6f",
   "metadata": {},
   "source": [
    "# Why stratify = y ?\n",
    "# note, because this data is highly imbalanced and could possibly result into different #proportions in the y variables between train and test set"
   ]
  },
  {
   "cell_type": "code",
   "execution_count": 76,
   "id": "1dc9cc88",
   "metadata": {},
   "outputs": [
    {
     "name": "stdout",
     "output_type": "stream",
     "text": [
      "(7000, 3)\n",
      "(3000, 3)\n"
     ]
    }
   ],
   "source": [
    "print(x_train.shape)\n",
    "print(x_test.shape)"
   ]
  },
  {
   "cell_type": "code",
   "execution_count": 77,
   "id": "e220bdab",
   "metadata": {},
   "outputs": [
    {
     "name": "stdout",
     "output_type": "stream",
     "text": [
      "0    0.97\n",
      "1    0.03\n",
      "Name: default, dtype: float64\n",
      "\n",
      "0    1.0\n",
      "1    0.0\n",
      "Name: default, dtype: float64\n"
     ]
    }
   ],
   "source": [
    "print(y_train.value_counts(normalize=True).round(2))\n",
    "print()\n",
    "print(y_test.value_counts(normalize=True).round())\n",
    "      "
   ]
  },
  {
   "cell_type": "markdown",
   "id": "7dea20ec",
   "metadata": {},
   "source": [
    "# Treating target imbalance using smote"
   ]
  },
  {
   "cell_type": "code",
   "execution_count": 78,
   "id": "36b37d25",
   "metadata": {},
   "outputs": [],
   "source": [
    "from imblearn.over_sampling import SMOTE\n",
    "sm=SMOTE(random_state=33,sampling_strategy=0.75)\n",
    "x_res,y_res=sm.fit_resample(x_train,y_train)"
   ]
  },
  {
   "cell_type": "code",
   "execution_count": 81,
   "id": "53fb30d2",
   "metadata": {},
   "outputs": [
    {
     "name": "stdout",
     "output_type": "stream",
     "text": [
      "(10000,)\n",
      "\n",
      "(11842,)\n"
     ]
    }
   ],
   "source": [
    "print(y.shape)\n",
    "print()\n",
    "print(y_res.shape)"
   ]
  },
  {
   "cell_type": "code",
   "execution_count": 82,
   "id": "70bc9037",
   "metadata": {},
   "outputs": [
    {
     "data": {
      "text/plain": [
       "0    9667\n",
       "1     333\n",
       "Name: default, dtype: int64"
      ]
     },
     "execution_count": 82,
     "metadata": {},
     "output_type": "execute_result"
    }
   ],
   "source": [
    "y.value_counts()"
   ]
  },
  {
   "cell_type": "code",
   "execution_count": 83,
   "id": "d991d0ab",
   "metadata": {},
   "outputs": [
    {
     "data": {
      "text/plain": [
       "0    6767\n",
       "1    5075\n",
       "Name: default, dtype: int64"
      ]
     },
     "execution_count": 83,
     "metadata": {},
     "output_type": "execute_result"
    }
   ],
   "source": [
    "y_res.value_counts()"
   ]
  },
  {
   "cell_type": "code",
   "execution_count": 85,
   "id": "819fbbde",
   "metadata": {},
   "outputs": [],
   "source": [
    "default_smote=pd.concat([x_res,y_res],axis=1)"
   ]
  },
  {
   "cell_type": "code",
   "execution_count": 87,
   "id": "713cfc70",
   "metadata": {},
   "outputs": [
    {
     "data": {
      "text/html": [
       "<div>\n",
       "<style scoped>\n",
       "    .dataframe tbody tr th:only-of-type {\n",
       "        vertical-align: middle;\n",
       "    }\n",
       "\n",
       "    .dataframe tbody tr th {\n",
       "        vertical-align: top;\n",
       "    }\n",
       "\n",
       "    .dataframe thead th {\n",
       "        text-align: right;\n",
       "    }\n",
       "</style>\n",
       "<table border=\"1\" class=\"dataframe\">\n",
       "  <thead>\n",
       "    <tr style=\"text-align: right;\">\n",
       "      <th></th>\n",
       "      <th>balance</th>\n",
       "      <th>income</th>\n",
       "      <th>student</th>\n",
       "    </tr>\n",
       "    <tr>\n",
       "      <th>default</th>\n",
       "      <th></th>\n",
       "      <th></th>\n",
       "      <th></th>\n",
       "    </tr>\n",
       "  </thead>\n",
       "  <tbody>\n",
       "    <tr>\n",
       "      <th>0</th>\n",
       "      <td>807.913022</td>\n",
       "      <td>33555.565605</td>\n",
       "      <td>0.288902</td>\n",
       "    </tr>\n",
       "    <tr>\n",
       "      <th>1</th>\n",
       "      <td>1748.067687</td>\n",
       "      <td>31074.712267</td>\n",
       "      <td>0.337537</td>\n",
       "    </tr>\n",
       "  </tbody>\n",
       "</table>\n",
       "</div>"
      ],
      "text/plain": [
       "             balance        income   student\n",
       "default                                     \n",
       "0         807.913022  33555.565605  0.288902\n",
       "1        1748.067687  31074.712267  0.337537"
      ]
     },
     "execution_count": 87,
     "metadata": {},
     "output_type": "execute_result"
    }
   ],
   "source": [
    "#balance datasheet\n",
    "default_smote.groupby('default').mean()"
   ]
  },
  {
   "cell_type": "code",
   "execution_count": 88,
   "id": "e6fce822",
   "metadata": {},
   "outputs": [
    {
     "data": {
      "text/html": [
       "<div>\n",
       "<style scoped>\n",
       "    .dataframe tbody tr th:only-of-type {\n",
       "        vertical-align: middle;\n",
       "    }\n",
       "\n",
       "    .dataframe tbody tr th {\n",
       "        vertical-align: top;\n",
       "    }\n",
       "\n",
       "    .dataframe thead th {\n",
       "        text-align: right;\n",
       "    }\n",
       "</style>\n",
       "<table border=\"1\" class=\"dataframe\">\n",
       "  <thead>\n",
       "    <tr style=\"text-align: right;\">\n",
       "      <th></th>\n",
       "      <th>balance</th>\n",
       "      <th>income</th>\n",
       "      <th>student</th>\n",
       "    </tr>\n",
       "    <tr>\n",
       "      <th>default</th>\n",
       "      <th></th>\n",
       "      <th></th>\n",
       "      <th></th>\n",
       "    </tr>\n",
       "  </thead>\n",
       "  <tbody>\n",
       "    <tr>\n",
       "      <th>0</th>\n",
       "      <td>803.870400</td>\n",
       "      <td>33566.166610</td>\n",
       "      <td>0.291404</td>\n",
       "    </tr>\n",
       "    <tr>\n",
       "      <th>1</th>\n",
       "      <td>1736.593536</td>\n",
       "      <td>32089.146847</td>\n",
       "      <td>0.381381</td>\n",
       "    </tr>\n",
       "  </tbody>\n",
       "</table>\n",
       "</div>"
      ],
      "text/plain": [
       "             balance        income   student\n",
       "default                                     \n",
       "0         803.870400  33566.166610  0.291404\n",
       "1        1736.593536  32089.146847  0.381381"
      ]
     },
     "execution_count": 88,
     "metadata": {},
     "output_type": "execute_result"
    }
   ],
   "source": [
    "# originaldata set imbalance data \n",
    "\n",
    "default_df.groupby('default').mean()"
   ]
  },
  {
   "cell_type": "markdown",
   "id": "bcf684b9",
   "metadata": {},
   "source": [
    "# Building model using logistic regression"
   ]
  },
  {
   "cell_type": "code",
   "execution_count": 89,
   "id": "c7f38c37",
   "metadata": {},
   "outputs": [],
   "source": [
    "from sklearn.linear_model import LogisticRegression\n",
    "logit=LogisticRegression()\n"
   ]
  },
  {
   "cell_type": "markdown",
   "id": "ba8ff0a1",
   "metadata": {},
   "source": [
    "# Now, importing statsmodels modules"
   ]
  },
  {
   "cell_type": "code",
   "execution_count": 90,
   "id": "f2fbde78",
   "metadata": {},
   "outputs": [],
   "source": [
    "import statsmodels.formula.api as SM"
   ]
  },
  {
   "cell_type": "code",
   "execution_count": 92,
   "id": "4e97b9b2",
   "metadata": {},
   "outputs": [
    {
     "data": {
      "text/plain": [
       "Index(['balance', 'income', 'default', 'student'], dtype='object')"
      ]
     },
     "execution_count": 92,
     "metadata": {},
     "output_type": "execute_result"
    }
   ],
   "source": [
    "default_df.columns"
   ]
  },
  {
   "cell_type": "code",
   "execution_count": 93,
   "id": "7de14d43",
   "metadata": {},
   "outputs": [],
   "source": [
    "#imbalance\n",
    "train=pd.concat([x_train,y_train],axis=1)\n",
    "#balance\n",
    "train_smote=pd.concat([x_res,y_res],axis=1)\n",
    "#validation data\n",
    "test=pd.concat([x_test,y_test],axis=1)\n"
   ]
  },
  {
   "cell_type": "code",
   "execution_count": 94,
   "id": "9f00a49b",
   "metadata": {},
   "outputs": [
    {
     "name": "stdout",
     "output_type": "stream",
     "text": [
      "(7000, 4)\n",
      "\n",
      "(11842, 4)\n",
      "\n",
      "(3000, 4)\n"
     ]
    }
   ],
   "source": [
    "print(train.shape)\n",
    "print()\n",
    "print(train_smote.shape)\n",
    "print()\n",
    "print(test.shape)"
   ]
  },
  {
   "cell_type": "code",
   "execution_count": 95,
   "id": "6089e26e",
   "metadata": {},
   "outputs": [
    {
     "data": {
      "text/html": [
       "<div>\n",
       "<style scoped>\n",
       "    .dataframe tbody tr th:only-of-type {\n",
       "        vertical-align: middle;\n",
       "    }\n",
       "\n",
       "    .dataframe tbody tr th {\n",
       "        vertical-align: top;\n",
       "    }\n",
       "\n",
       "    .dataframe thead th {\n",
       "        text-align: right;\n",
       "    }\n",
       "</style>\n",
       "<table border=\"1\" class=\"dataframe\">\n",
       "  <thead>\n",
       "    <tr style=\"text-align: right;\">\n",
       "      <th></th>\n",
       "      <th>balance</th>\n",
       "      <th>income</th>\n",
       "      <th>student</th>\n",
       "      <th>default</th>\n",
       "    </tr>\n",
       "  </thead>\n",
       "  <tbody>\n",
       "    <tr>\n",
       "      <th>0</th>\n",
       "      <td>595.07</td>\n",
       "      <td>29842.89</td>\n",
       "      <td>0</td>\n",
       "      <td>0</td>\n",
       "    </tr>\n",
       "    <tr>\n",
       "      <th>1</th>\n",
       "      <td>290.68</td>\n",
       "      <td>37603.97</td>\n",
       "      <td>0</td>\n",
       "      <td>0</td>\n",
       "    </tr>\n",
       "    <tr>\n",
       "      <th>2</th>\n",
       "      <td>758.47</td>\n",
       "      <td>38018.15</td>\n",
       "      <td>0</td>\n",
       "      <td>0</td>\n",
       "    </tr>\n",
       "    <tr>\n",
       "      <th>3</th>\n",
       "      <td>500.65</td>\n",
       "      <td>31353.75</td>\n",
       "      <td>0</td>\n",
       "      <td>0</td>\n",
       "    </tr>\n",
       "    <tr>\n",
       "      <th>4</th>\n",
       "      <td>1391.41</td>\n",
       "      <td>30427.20</td>\n",
       "      <td>0</td>\n",
       "      <td>0</td>\n",
       "    </tr>\n",
       "  </tbody>\n",
       "</table>\n",
       "</div>"
      ],
      "text/plain": [
       "   balance    income  student  default\n",
       "0   595.07  29842.89        0        0\n",
       "1   290.68  37603.97        0        0\n",
       "2   758.47  38018.15        0        0\n",
       "3   500.65  31353.75        0        0\n",
       "4  1391.41  30427.20        0        0"
      ]
     },
     "execution_count": 95,
     "metadata": {},
     "output_type": "execute_result"
    }
   ],
   "source": [
    "train_smote.head()"
   ]
  },
  {
   "cell_type": "code",
   "execution_count": 96,
   "id": "4eb1cb20",
   "metadata": {},
   "outputs": [],
   "source": [
    "f_1 = 'default ~ balance + income + student'"
   ]
  },
  {
   "cell_type": "markdown",
   "id": "4aca83ba",
   "metadata": {},
   "source": [
    "# Fitting the logistic regression model on imbalance dataset"
   ]
  },
  {
   "cell_type": "code",
   "execution_count": 97,
   "id": "7891a6c2",
   "metadata": {},
   "outputs": [
    {
     "name": "stdout",
     "output_type": "stream",
     "text": [
      "Optimization terminated successfully.\n",
      "         Current function value: 0.078006\n",
      "         Iterations 10\n"
     ]
    }
   ],
   "source": [
    "model1 = SM.logit(formula=f_1, data=train).fit()"
   ]
  },
  {
   "cell_type": "code",
   "execution_count": 98,
   "id": "2f85c730",
   "metadata": {},
   "outputs": [
    {
     "data": {
      "text/html": [
       "<table class=\"simpletable\">\n",
       "<caption>Logit Regression Results</caption>\n",
       "<tr>\n",
       "  <th>Dep. Variable:</th>        <td>default</td>     <th>  No. Observations:  </th>   <td>  7000</td>  \n",
       "</tr>\n",
       "<tr>\n",
       "  <th>Model:</th>                 <td>Logit</td>      <th>  Df Residuals:      </th>   <td>  6996</td>  \n",
       "</tr>\n",
       "<tr>\n",
       "  <th>Method:</th>                 <td>MLE</td>       <th>  Df Model:          </th>   <td>     3</td>  \n",
       "</tr>\n",
       "<tr>\n",
       "  <th>Date:</th>            <td>Sat, 15 Jul 2023</td> <th>  Pseudo R-squ.:     </th>   <td>0.4657</td>  \n",
       "</tr>\n",
       "<tr>\n",
       "  <th>Time:</th>                <td>01:29:05</td>     <th>  Log-Likelihood:    </th>  <td> -546.04</td> \n",
       "</tr>\n",
       "<tr>\n",
       "  <th>converged:</th>             <td>True</td>       <th>  LL-Null:           </th>  <td> -1021.9</td> \n",
       "</tr>\n",
       "<tr>\n",
       "  <th>Covariance Type:</th>     <td>nonrobust</td>    <th>  LLR p-value:       </th> <td>5.419e-206</td>\n",
       "</tr>\n",
       "</table>\n",
       "<table class=\"simpletable\">\n",
       "<tr>\n",
       "      <td></td>         <th>coef</th>     <th>std err</th>      <th>z</th>      <th>P>|z|</th>  <th>[0.025</th>    <th>0.975]</th>  \n",
       "</tr>\n",
       "<tr>\n",
       "  <th>Intercept</th> <td>  -10.4580</td> <td>    0.578</td> <td>  -18.080</td> <td> 0.000</td> <td>  -11.592</td> <td>   -9.324</td>\n",
       "</tr>\n",
       "<tr>\n",
       "  <th>balance</th>   <td>    0.0059</td> <td>    0.000</td> <td>   20.744</td> <td> 0.000</td> <td>    0.005</td> <td>    0.006</td>\n",
       "</tr>\n",
       "<tr>\n",
       "  <th>income</th>    <td> -1.53e-05</td> <td> 9.98e-06</td> <td>   -1.534</td> <td> 0.125</td> <td>-3.49e-05</td> <td> 4.25e-06</td>\n",
       "</tr>\n",
       "<tr>\n",
       "  <th>student</th>   <td>   -1.0130</td> <td>    0.282</td> <td>   -3.592</td> <td> 0.000</td> <td>   -1.566</td> <td>   -0.460</td>\n",
       "</tr>\n",
       "</table><br/><br/>Possibly complete quasi-separation: A fraction 0.16 of observations can be<br/>perfectly predicted. This might indicate that there is complete<br/>quasi-separation. In this case some parameters will not be identified."
      ],
      "text/plain": [
       "<class 'statsmodels.iolib.summary.Summary'>\n",
       "\"\"\"\n",
       "                           Logit Regression Results                           \n",
       "==============================================================================\n",
       "Dep. Variable:                default   No. Observations:                 7000\n",
       "Model:                          Logit   Df Residuals:                     6996\n",
       "Method:                           MLE   Df Model:                            3\n",
       "Date:                Sat, 15 Jul 2023   Pseudo R-squ.:                  0.4657\n",
       "Time:                        01:29:05   Log-Likelihood:                -546.04\n",
       "converged:                       True   LL-Null:                       -1021.9\n",
       "Covariance Type:            nonrobust   LLR p-value:                5.419e-206\n",
       "==============================================================================\n",
       "                 coef    std err          z      P>|z|      [0.025      0.975]\n",
       "------------------------------------------------------------------------------\n",
       "Intercept    -10.4580      0.578    -18.080      0.000     -11.592      -9.324\n",
       "balance        0.0059      0.000     20.744      0.000       0.005       0.006\n",
       "income      -1.53e-05   9.98e-06     -1.534      0.125   -3.49e-05    4.25e-06\n",
       "student       -1.0130      0.282     -3.592      0.000      -1.566      -0.460\n",
       "==============================================================================\n",
       "\n",
       "Possibly complete quasi-separation: A fraction 0.16 of observations can be\n",
       "perfectly predicted. This might indicate that there is complete\n",
       "quasi-separation. In this case some parameters will not be identified.\n",
       "\"\"\""
      ]
     },
     "execution_count": 98,
     "metadata": {},
     "output_type": "execute_result"
    }
   ],
   "source": [
    "model1.summary()"
   ]
  },
  {
   "cell_type": "markdown",
   "id": "d5d360d9",
   "metadata": {},
   "source": [
    "# Validating the model on train set"
   ]
  },
  {
   "cell_type": "code",
   "execution_count": 99,
   "id": "bd56b028",
   "metadata": {},
   "outputs": [],
   "source": [
    "y_pred_train = np.where(model1.predict(train)>0.5,1,0)"
   ]
  },
  {
   "cell_type": "code",
   "execution_count": 100,
   "id": "9cd9df9a",
   "metadata": {},
   "outputs": [],
   "source": [
    "from sklearn.metrics import confusion_matrix, classification_report, accuracy_score"
   ]
  },
  {
   "cell_type": "code",
   "execution_count": 101,
   "id": "d12c019b",
   "metadata": {},
   "outputs": [
    {
     "data": {
      "text/plain": [
       "array([[6737,   30],\n",
       "       [ 158,   75]], dtype=int64)"
      ]
     },
     "execution_count": 101,
     "metadata": {},
     "output_type": "execute_result"
    }
   ],
   "source": [
    "confusion_matrix(y_train, y_pred_train)"
   ]
  },
  {
   "cell_type": "code",
   "execution_count": 102,
   "id": "ce99bcf0",
   "metadata": {},
   "outputs": [
    {
     "name": "stdout",
     "output_type": "stream",
     "text": [
      "              precision    recall  f1-score   support\n",
      "\n",
      "           0       0.98      1.00      0.99      6767\n",
      "           1       0.71      0.32      0.44       233\n",
      "\n",
      "    accuracy                           0.97      7000\n",
      "   macro avg       0.85      0.66      0.72      7000\n",
      "weighted avg       0.97      0.97      0.97      7000\n",
      "\n"
     ]
    }
   ],
   "source": [
    "print(classification_report(y_train, y_pred_train))"
   ]
  },
  {
   "cell_type": "code",
   "execution_count": 103,
   "id": "7defe0e0",
   "metadata": {},
   "outputs": [
    {
     "name": "stdout",
     "output_type": "stream",
     "text": [
      "0.9731428571428572\n"
     ]
    }
   ],
   "source": [
    "print(accuracy_score(y_train, y_pred_train))"
   ]
  },
  {
   "cell_type": "markdown",
   "id": "a39e7c55",
   "metadata": {},
   "source": [
    "# Validating the model on test set"
   ]
  },
  {
   "cell_type": "code",
   "execution_count": 104,
   "id": "e119c2c5",
   "metadata": {},
   "outputs": [],
   "source": [
    "y_pred_test = np.where(model1.predict(test)>0.5,1,0)"
   ]
  },
  {
   "cell_type": "code",
   "execution_count": 105,
   "id": "bf9aac4e",
   "metadata": {},
   "outputs": [
    {
     "data": {
      "text/plain": [
       "array([[2888,   12],\n",
       "       [  66,   34]], dtype=int64)"
      ]
     },
     "execution_count": 105,
     "metadata": {},
     "output_type": "execute_result"
    }
   ],
   "source": [
    "confusion_matrix(y_test, y_pred_test)"
   ]
  },
  {
   "cell_type": "code",
   "execution_count": 106,
   "id": "fecb5c70",
   "metadata": {},
   "outputs": [
    {
     "name": "stdout",
     "output_type": "stream",
     "text": [
      "              precision    recall  f1-score   support\n",
      "\n",
      "           0       0.98      1.00      0.99      2900\n",
      "           1       0.74      0.34      0.47       100\n",
      "\n",
      "    accuracy                           0.97      3000\n",
      "   macro avg       0.86      0.67      0.73      3000\n",
      "weighted avg       0.97      0.97      0.97      3000\n",
      "\n"
     ]
    }
   ],
   "source": [
    "print(classification_report(y_test, y_pred_test))"
   ]
  },
  {
   "cell_type": "code",
   "execution_count": 107,
   "id": "857155a8",
   "metadata": {},
   "outputs": [
    {
     "name": "stdout",
     "output_type": "stream",
     "text": [
      "0.974\n"
     ]
    }
   ],
   "source": [
    "print(accuracy_score(y_test, y_pred_test))"
   ]
  },
  {
   "cell_type": "markdown",
   "id": "5b679a2d",
   "metadata": {},
   "source": [
    "# Please note, ~ACCURACY is not a good measurement when we have imbalance dataset or probability values\n",
    "# Model is not overfitting but the recall value is really poor. Basis recall, can we say it's high bias"
   ]
  },
  {
   "cell_type": "markdown",
   "id": "d88871d9",
   "metadata": {},
   "source": []
  },
  {
   "cell_type": "markdown",
   "id": "7adb90ba",
   "metadata": {},
   "source": [
    "# Fitting the logistic Regression model on Balanced data\n"
   ]
  },
  {
   "cell_type": "code",
   "execution_count": 108,
   "id": "e0e9b97e",
   "metadata": {},
   "outputs": [
    {
     "name": "stdout",
     "output_type": "stream",
     "text": [
      "Optimization terminated successfully.\n",
      "         Current function value: 0.236659\n",
      "         Iterations 8\n"
     ]
    }
   ],
   "source": [
    "model_2 = SM.logit(formula=f_1, data=train_smote).fit()"
   ]
  },
  {
   "cell_type": "code",
   "execution_count": 110,
   "id": "7129ea3f",
   "metadata": {},
   "outputs": [
    {
     "data": {
      "text/html": [
       "<table class=\"simpletable\">\n",
       "<caption>Logit Regression Results</caption>\n",
       "<tr>\n",
       "  <th>Dep. Variable:</th>        <td>default</td>     <th>  No. Observations:  </th>  <td> 11842</td> \n",
       "</tr>\n",
       "<tr>\n",
       "  <th>Model:</th>                 <td>Logit</td>      <th>  Df Residuals:      </th>  <td> 11838</td> \n",
       "</tr>\n",
       "<tr>\n",
       "  <th>Method:</th>                 <td>MLE</td>       <th>  Df Model:          </th>  <td>     3</td> \n",
       "</tr>\n",
       "<tr>\n",
       "  <th>Date:</th>            <td>Sat, 15 Jul 2023</td> <th>  Pseudo R-squ.:     </th>  <td>0.6535</td> \n",
       "</tr>\n",
       "<tr>\n",
       "  <th>Time:</th>                <td>01:37:22</td>     <th>  Log-Likelihood:    </th> <td> -2802.5</td>\n",
       "</tr>\n",
       "<tr>\n",
       "  <th>converged:</th>             <td>True</td>       <th>  LL-Null:           </th> <td> -8087.0</td>\n",
       "</tr>\n",
       "<tr>\n",
       "  <th>Covariance Type:</th>     <td>nonrobust</td>    <th>  LLR p-value:       </th>  <td> 0.000</td> \n",
       "</tr>\n",
       "</table>\n",
       "<table class=\"simpletable\">\n",
       "<tr>\n",
       "      <td></td>         <th>coef</th>     <th>std err</th>      <th>z</th>      <th>P>|z|</th>  <th>[0.025</th>    <th>0.975]</th>  \n",
       "</tr>\n",
       "<tr>\n",
       "  <th>Intercept</th> <td>   -8.6320</td> <td>    0.240</td> <td>  -35.967</td> <td> 0.000</td> <td>   -9.102</td> <td>   -8.162</td>\n",
       "</tr>\n",
       "<tr>\n",
       "  <th>balance</th>   <td>    0.0072</td> <td>    0.000</td> <td>   51.698</td> <td> 0.000</td> <td>    0.007</td> <td>    0.007</td>\n",
       "</tr>\n",
       "<tr>\n",
       "  <th>income</th>    <td> -2.84e-05</td> <td> 4.09e-06</td> <td>   -6.935</td> <td> 0.000</td> <td>-3.64e-05</td> <td>-2.04e-05</td>\n",
       "</tr>\n",
       "<tr>\n",
       "  <th>student</th>   <td>   -1.7174</td> <td>    0.120</td> <td>  -14.283</td> <td> 0.000</td> <td>   -1.953</td> <td>   -1.482</td>\n",
       "</tr>\n",
       "</table>"
      ],
      "text/plain": [
       "<class 'statsmodels.iolib.summary.Summary'>\n",
       "\"\"\"\n",
       "                           Logit Regression Results                           \n",
       "==============================================================================\n",
       "Dep. Variable:                default   No. Observations:                11842\n",
       "Model:                          Logit   Df Residuals:                    11838\n",
       "Method:                           MLE   Df Model:                            3\n",
       "Date:                Sat, 15 Jul 2023   Pseudo R-squ.:                  0.6535\n",
       "Time:                        01:37:22   Log-Likelihood:                -2802.5\n",
       "converged:                       True   LL-Null:                       -8087.0\n",
       "Covariance Type:            nonrobust   LLR p-value:                     0.000\n",
       "==============================================================================\n",
       "                 coef    std err          z      P>|z|      [0.025      0.975]\n",
       "------------------------------------------------------------------------------\n",
       "Intercept     -8.6320      0.240    -35.967      0.000      -9.102      -8.162\n",
       "balance        0.0072      0.000     51.698      0.000       0.007       0.007\n",
       "income      -2.84e-05   4.09e-06     -6.935      0.000   -3.64e-05   -2.04e-05\n",
       "student       -1.7174      0.120    -14.283      0.000      -1.953      -1.482\n",
       "==============================================================================\n",
       "\"\"\""
      ]
     },
     "execution_count": 110,
     "metadata": {},
     "output_type": "execute_result"
    }
   ],
   "source": [
    "model_2.summary()"
   ]
  },
  {
   "cell_type": "markdown",
   "id": "7ef727a2",
   "metadata": {},
   "source": [
    "# Training dataset"
   ]
  },
  {
   "cell_type": "code",
   "execution_count": 111,
   "id": "a0f8cc90",
   "metadata": {},
   "outputs": [],
   "source": [
    "y_pred_train_smote = np.where(model_2.predict(train_smote)>0.5,1,0)"
   ]
  },
  {
   "cell_type": "code",
   "execution_count": 112,
   "id": "45815892",
   "metadata": {},
   "outputs": [
    {
     "data": {
      "text/plain": [
       "array([[6111,  656],\n",
       "       [ 500, 4575]], dtype=int64)"
      ]
     },
     "execution_count": 112,
     "metadata": {},
     "output_type": "execute_result"
    }
   ],
   "source": [
    "confusion_matrix(y_res, y_pred_train_smote)"
   ]
  },
  {
   "cell_type": "code",
   "execution_count": 113,
   "id": "61e5c68d",
   "metadata": {},
   "outputs": [
    {
     "name": "stdout",
     "output_type": "stream",
     "text": [
      "              precision    recall  f1-score   support\n",
      "\n",
      "           0       0.92      0.90      0.91      6767\n",
      "           1       0.87      0.90      0.89      5075\n",
      "\n",
      "    accuracy                           0.90     11842\n",
      "   macro avg       0.90      0.90      0.90     11842\n",
      "weighted avg       0.90      0.90      0.90     11842\n",
      "\n"
     ]
    }
   ],
   "source": [
    "print(classification_report(y_res, y_pred_train_smote))"
   ]
  },
  {
   "cell_type": "code",
   "execution_count": 114,
   "id": "651e9d26",
   "metadata": {},
   "outputs": [
    {
     "name": "stdout",
     "output_type": "stream",
     "text": [
      "0.9023813545009289\n"
     ]
    }
   ],
   "source": [
    "print(accuracy_score(y_res, y_pred_train_smote))"
   ]
  },
  {
   "cell_type": "markdown",
   "id": "e09f33c3",
   "metadata": {},
   "source": [
    "# Test dataset"
   ]
  },
  {
   "cell_type": "code",
   "execution_count": 115,
   "id": "1f1626f8",
   "metadata": {},
   "outputs": [],
   "source": [
    "y_pred_test_smote = np.where(model_2.predict(test)>0.5,1,0)"
   ]
  },
  {
   "cell_type": "code",
   "execution_count": 116,
   "id": "00ac8d1a",
   "metadata": {},
   "outputs": [
    {
     "data": {
      "text/plain": [
       "array([[2634,  266],\n",
       "       [  18,   82]], dtype=int64)"
      ]
     },
     "execution_count": 116,
     "metadata": {},
     "output_type": "execute_result"
    }
   ],
   "source": [
    "confusion_matrix(y_test, y_pred_test_smote)"
   ]
  },
  {
   "cell_type": "code",
   "execution_count": 117,
   "id": "1db22401",
   "metadata": {},
   "outputs": [
    {
     "name": "stdout",
     "output_type": "stream",
     "text": [
      "              precision    recall  f1-score   support\n",
      "\n",
      "           0       0.99      0.91      0.95      2900\n",
      "           1       0.24      0.82      0.37       100\n",
      "\n",
      "    accuracy                           0.91      3000\n",
      "   macro avg       0.61      0.86      0.66      3000\n",
      "weighted avg       0.97      0.91      0.93      3000\n",
      "\n"
     ]
    }
   ],
   "source": [
    "print(classification_report(y_test, y_pred_test_smote))"
   ]
  },
  {
   "cell_type": "code",
   "execution_count": 118,
   "id": "714c7b1e",
   "metadata": {},
   "outputs": [
    {
     "name": "stdout",
     "output_type": "stream",
     "text": [
      "0.9053333333333333\n"
     ]
    }
   ],
   "source": [
    "print(accuracy_score(y_test, y_pred_test_smote))"
   ]
  },
  {
   "cell_type": "markdown",
   "id": "d16f315f",
   "metadata": {},
   "source": [
    "# Conclusion:\n",
    " # we can see that we get better recall value after balancing the data. hence, we prefer to go with model_2"
   ]
  },
  {
   "cell_type": "code",
   "execution_count": null,
   "id": "f2a1140e",
   "metadata": {},
   "outputs": [],
   "source": []
  }
 ],
 "metadata": {
  "kernelspec": {
   "display_name": "Python 3 (ipykernel)",
   "language": "python",
   "name": "python3"
  },
  "language_info": {
   "codemirror_mode": {
    "name": "ipython",
    "version": 3
   },
   "file_extension": ".py",
   "mimetype": "text/x-python",
   "name": "python",
   "nbconvert_exporter": "python",
   "pygments_lexer": "ipython3",
   "version": "3.9.12"
  }
 },
 "nbformat": 4,
 "nbformat_minor": 5
}
